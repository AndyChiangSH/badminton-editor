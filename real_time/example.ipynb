{
 "cells": [
  {
   "cell_type": "markdown",
   "metadata": {},
   "source": [
    "## Examples of api functions "
   ]
  },
  {
   "cell_type": "code",
   "execution_count": 4,
   "metadata": {},
   "outputs": [],
   "source": [
    "from api import get_rank, get_age, get_country, get_h2h, get_tournament\n",
    "import json"
   ]
  },
  {
   "cell_type": "code",
   "execution_count": 5,
   "metadata": {},
   "outputs": [],
   "source": [
    "names = [\n",
    "    \"SHI Yu Qi\",\n",
    "    \"Viktor AXELSEN\"\n",
    "]"
   ]
  },
  {
   "cell_type": "code",
   "execution_count": 6,
   "metadata": {},
   "outputs": [
    {
     "name": "stdout",
     "output_type": "stream",
     "text": [
      "SHI Yu Qi\n",
      "{\n",
      "    \"rank\": 1,\n",
      "    \"category\": \"Men's Singles\"\n",
      "}\n",
      "Viktor AXELSEN\n",
      "{\n",
      "    \"rank\": 2,\n",
      "    \"category\": \"Men's Singles\"\n",
      "}\n"
     ]
    }
   ],
   "source": [
    "for name in names:\n",
    "    print(name)\n",
    "    print(json.dumps(get_rank(name), indent=4))"
   ]
  },
  {
   "cell_type": "code",
   "execution_count": 7,
   "metadata": {},
   "outputs": [
    {
     "name": "stdout",
     "output_type": "stream",
     "text": [
      "SHI Yu Qi\n",
      "{\n",
      "    \"age\": 28\n",
      "}\n",
      "Viktor AXELSEN\n",
      "{\n",
      "    \"age\": 30\n",
      "}\n"
     ]
    }
   ],
   "source": [
    "for name in names:\n",
    "    print(name)\n",
    "    print(json.dumps(get_age(name), indent=4))"
   ]
  },
  {
   "cell_type": "code",
   "execution_count": 8,
   "metadata": {},
   "outputs": [
    {
     "name": "stdout",
     "output_type": "stream",
     "text": [
      "SHI Yu Qi\n",
      "{\n",
      "    \"country\": \"China\"\n",
      "}\n",
      "Viktor AXELSEN\n",
      "{\n",
      "    \"country\": \"Denmark\"\n",
      "}\n"
     ]
    }
   ],
   "source": [
    "for name in names:\n",
    "    print(name)\n",
    "    print(json.dumps(get_country(name), indent=4))"
   ]
  },
  {
   "cell_type": "code",
   "execution_count": 9,
   "metadata": {},
   "outputs": [
    {
     "name": "stdout",
     "output_type": "stream",
     "text": [
      "SHI Yu Qi\n",
      "{\n",
      "    \"name\": \"VICTOR China Open 2024\",\n",
      "    \"place\": \"Changzhou, China\",\n",
      "    \"start-date\": \"9/17/2024\",\n",
      "    \"end-date\": \"9/22/2024\",\n",
      "    \"rank\": \"9/16\",\n",
      "    \"matches\": [\n",
      "        {\n",
      "            \"name\": \"Round of 32\",\n",
      "            \"lasting\": \"37m\",\n",
      "            \"date\": \"Tue 9/17/2024\",\n",
      "            \"place\": \"OLYMPIC SPORTS CENTER GYMNASIUM - Court 1\",\n",
      "            \"opponent\": \"Kantaphon Wangcharoen\",\n",
      "            \"round_1\": \"21:10\",\n",
      "            \"round_2\": \"21:19\"\n",
      "        },\n",
      "        {\n",
      "            \"name\": \"Round of 16\",\n",
      "            \"lasting\": \"28m\",\n",
      "            \"date\": \"Thu 9/19/2024\",\n",
      "            \"place\": \"OLYMPIC SPORTS CENTER GYMNASIUM - Court 1\",\n",
      "            \"opponent\": \"Anthony Sinisuka Ginting\",\n",
      "            \"round_1\": \"11:21\",\n",
      "            \"round_2\": \"8:21\"\n",
      "        }\n",
      "    ]\n",
      "}\n"
     ]
    }
   ],
   "source": [
    "print(names[0])\n",
    "print(json.dumps(get_tournament(names[0]), indent=4))"
   ]
  },
  {
   "cell_type": "code",
   "execution_count": 10,
   "metadata": {},
   "outputs": [
    {
     "name": "stdout",
     "output_type": "stream",
     "text": [
      "Viktor AXELSEN\n",
      "{\n",
      "    \"name\": \"VICTOR Denmark Open 2024\",\n",
      "    \"place\": \"Odense, Denmark\",\n",
      "    \"start-date\": \"10/15/2024\",\n",
      "    \"end-date\": \"10/20/2024\",\n",
      "    \"rank\": \"9/16\",\n",
      "    \"matches\": [\n",
      "        {\n",
      "            \"name\": \"Round of 32\",\n",
      "            \"lasting\": \"41m\",\n",
      "            \"date\": \"Tue 10/15/2024\",\n",
      "            \"place\": \"Jyske Bank Arena - Court 1\",\n",
      "            \"opponent\": \"Yushi Tanaka\",\n",
      "            \"round_1\": \"21:13\",\n",
      "            \"round_2\": \"21:13\"\n",
      "        },\n",
      "        {\n",
      "            \"name\": \"Round of 16\",\n",
      "            \"lasting\": \"39m\",\n",
      "            \"date\": \"Thu 10/17/2024\",\n",
      "            \"place\": \"Jyske Bank Arena - Court 1\",\n",
      "            \"opponent\": \"Alex Lanier\",\n",
      "            \"round_1\": \"19:21\",\n",
      "            \"round_2\": \"7:11\"\n",
      "        }\n",
      "    ]\n",
      "}\n"
     ]
    }
   ],
   "source": [
    "print(names[1])\n",
    "print(json.dumps(get_tournament(names[1]), indent=4))"
   ]
  },
  {
   "cell_type": "code",
   "execution_count": 11,
   "metadata": {},
   "outputs": [
    {
     "name": "stdout",
     "output_type": "stream",
     "text": [
      "{\n",
      "    \"player1-win\": 3,\n",
      "    \"player2-win\": 9,\n",
      "    \"match-details\": {\n",
      "        \"name\": \"PETRONAS Malaysia Open 2024\",\n",
      "        \"category\": \"Men's Singles\",\n",
      "        \"type\": \"Semi final\",\n",
      "        \"round_1\": \"21:12\",\n",
      "        \"round_2\": \"19:21\",\n",
      "        \"round_3\": \"21:17\",\n",
      "        \"lasting\": \"1h 10m\",\n",
      "        \"winner\": \"SHI Yu Qi\"\n",
      "    }\n",
      "}\n"
     ]
    }
   ],
   "source": [
    "print(json.dumps(get_h2h(names[0], names[1]), indent=4))"
   ]
  }
 ],
 "metadata": {
  "kernelspec": {
   "display_name": "venv",
   "language": "python",
   "name": "python3"
  },
  "language_info": {
   "codemirror_mode": {
    "name": "ipython",
    "version": 3
   },
   "file_extension": ".py",
   "mimetype": "text/x-python",
   "name": "python",
   "nbconvert_exporter": "python",
   "pygments_lexer": "ipython3",
   "version": "3.11.4"
  }
 },
 "nbformat": 4,
 "nbformat_minor": 2
}
